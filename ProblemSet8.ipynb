{
 "cells": [
  {
   "cell_type": "code",
   "execution_count": 1,
   "metadata": {},
   "outputs": [
    {
     "name": "stdout",
     "output_type": "stream",
     "text": [
      "0 0\n",
      "0.0\n",
      "5.0\n",
      "True\n",
      "4\n",
      "False\n"
     ]
    }
   ],
   "source": [
    "#W8C1:\n",
    "class Coordinate:\n",
    "    def __init__(self, x=0, y=0):\n",
    "        self.x = x\n",
    "        self.y = y\n",
    "    def magnitude(self):\n",
    "        return (self.x**2 + self.y**2)**(0.5)\n",
    "    def translate(self, dx, dy):\n",
    "        self.x = self.x + dx\n",
    "        self.y = self.y + dy\n",
    "    def __eq__(self, other):\n",
    "        return (self.x == other.x and self.y == other.y)\n",
    "\n",
    "p = Coordinate ()\n",
    "print (p.x, p.y)\n",
    "# 0 0\n",
    "print (p.magnitude ())\n",
    "# 0.0\n",
    "p.x = 3\n",
    "p.y = 4\n",
    "print (p.magnitude ())\n",
    "# 5.0\n",
    "q = Coordinate (3 ,4)\n",
    "print(p == q)\n",
    "# True\n",
    "q.translate (1, 2)\n",
    "print(q.x)\n",
    "# 4\n",
    "print (p == q)\n",
    "# False"
   ]
  },
  {
   "cell_type": "code",
   "execution_count": 2,
   "metadata": {},
   "outputs": [
    {
     "name": "stdout",
     "output_type": "stream",
     "text": [
      "0\n",
      "89.6\n",
      "-273\n"
     ]
    }
   ],
   "source": [
    "#W8C2:\n",
    "class Celsius:\n",
    "    def __init__(self, temperature=0):\n",
    "        self.temperature = temperature\n",
    "    def to_fahrenheit(self):\n",
    "        return ((self.temperature * 9/5) + 32) # (0°C × 9/5) + 32 = 32°F\n",
    "    def get_temperature(self):\n",
    "        return self._temperature\n",
    "    def set_temperature(self, value):\n",
    "        if value < -273:\n",
    "            self._temperature = -273\n",
    "        else:\n",
    "            self._temperature = value\n",
    "        \n",
    "    temperature = property(get_temperature, set_temperature)\n",
    "    \n",
    "c= Celsius ()\n",
    "print (c. temperature )\n",
    "# 0\n",
    "c. temperature =32\n",
    "print (c. to_fahrenheit ())\n",
    "# 89.6\n",
    "c. temperature = -300\n",
    "print (c. temperature )\n",
    "# -273"
   ]
  },
  {
   "cell_type": "code",
   "execution_count": 3,
   "metadata": {},
   "outputs": [
    {
     "name": "stdout",
     "output_type": "stream",
     "text": [
      "0.1\n",
      "0.2\n"
     ]
    }
   ],
   "source": [
    "#W8C3:\n",
    "import time\n",
    "\n",
    "class StopWatch:\n",
    "    def __init__(self, start_time = time.time(), end_time = -1):\n",
    "        self.start_time = start_time\n",
    "        self.end_time = end_time\n",
    "        self.start()\n",
    "    def start(self):\n",
    "        self.start_time = time.time()\n",
    "        self.end_time = -1\n",
    "    def stop(self):\n",
    "        self.end_time = time.time()\n",
    "    def elapsed_time(self):\n",
    "        if self.end_time > 0:\n",
    "            return round((self.end_time - self.start_time),1)\n",
    "        else:\n",
    "            return None\n",
    "\n",
    "sw=StopWatch()                                   \n",
    "time.sleep(0.1)                                  \n",
    "sw.stop()                                        \n",
    "print(sw.elapsed_time())\n",
    "\n",
    "w=StopWatch()\n",
    "# w.start()\n",
    "time.sleep(0.2)                                  \n",
    "w.stop()                                        \n",
    "print(w.elapsed_time())"
   ]
  },
  {
   "cell_type": "code",
   "execution_count": 4,
   "metadata": {},
   "outputs": [
    {
     "name": "stdout",
     "output_type": "stream",
     "text": [
      "      5.00     23.00\n",
      "\n"
     ]
    }
   ],
   "source": [
    "#w8C4\n",
    "class Line:\n",
    "    def __init__(self, c0, c1):\n",
    "        self.c0 = c0\n",
    "        self.c1 = c1\n",
    "    def __call__(self, x):\n",
    "        return self.c0 + self.c1 * x\n",
    "    def table(self, L, R, n):\n",
    "        x = L\n",
    "        if R == L or n == 1:\n",
    "            return '{:10.2f}{:10.2f}\\n'.format(x, self(x))\n",
    "        op = ''\n",
    "        step = (R - L) / (n - 1)\n",
    "        if n == 0:\n",
    "            op = 'Error in printing table'\n",
    "        else:\n",
    "            for i in range(n):\n",
    "                op += '{:10.2f}{:10.2f}\\n'.format(x, self(x))#same as self.__call__(x)\n",
    "                x += step\n",
    "        return op\n",
    "\n",
    "line = Line (3 ,4)\n",
    "line (2)\n",
    "# 5\n",
    "print (line.table (5 ,5 ,10))"
   ]
  },
  {
   "cell_type": "code",
   "execution_count": 5,
   "metadata": {},
   "outputs": [
    {
     "name": "stdout",
     "output_type": "stream",
     "text": [
      "getting...\n",
      "37150\n",
      "setting...\n",
      "getting...\n",
      "37150\n",
      "Time: 10:19:10\n"
     ]
    }
   ],
   "source": [
    "#w8H1\n",
    "class Time:\n",
    "    def __init__(self, hours, minutes, seconds):\n",
    "        self._hours = hours\n",
    "        self._minutes = minutes\n",
    "        self._seconds = seconds\n",
    "        \n",
    "        self._elapsed_time = seconds\n",
    "        \n",
    "    def get_time(self):\n",
    "        print('getting...')\n",
    "        return self._hours * 60 * 60 + self._minutes * 60 + self._seconds\n",
    "    def set_time(self, seconds):\n",
    "        print('setting...')\n",
    "        self._hours = seconds // 60 // 60\n",
    "        self._minutes = (seconds - (self._hours * 60 * 60)) // 60\n",
    "        self._seconds = seconds - (self._minutes * 60) - (self._hours * 60 * 60)\n",
    "        while self._hours >= 24:\n",
    "            self._hours -= 24\n",
    "    def __str__(self):\n",
    "        return 'Time: {}:{}:{}'.format(self._hours,self._minutes,self._seconds)\n",
    "    elapsed_time = property(get_time, set_time)\n",
    "    \n",
    "t = Time (10 , 19, 10)\n",
    "print (t. elapsed_time )\n",
    "t. elapsed_time = 555550\n",
    "print (t. elapsed_time )\n",
    "print (t)"
   ]
  },
  {
   "cell_type": "code",
   "execution_count": 6,
   "metadata": {},
   "outputs": [
    {
     "name": "stdout",
     "output_type": "stream",
     "text": [
      "John Olsson , 19371554951 , balance: 13500\n",
      "Liz Olsson , 19371564761 , balance: 9500\n"
     ]
    }
   ],
   "source": [
    "#W8H2\n",
    "class Account:\n",
    "    def __init__(self, owner, account_number, amount):\n",
    "        self._owner = owner\n",
    "        self._account_number = account_number\n",
    "        \n",
    "        self._balance = amount\n",
    "    def deposit(self, amount):\n",
    "        self._balance += amount\n",
    "    def withdraw(self, amount):\n",
    "        self._balance -= amount\n",
    "    def __str__(self):\n",
    "        return '{}, {}, balance: {}'.format(self._owner, self._account_number, self._balance)\n",
    "\n",
    "a1 = Account ('John Olsson ', '19371554951 ', 20000)\n",
    "a2 = Account ('Liz Olsson ', '19371564761 ', 20000)\n",
    "a1. deposit (1000)\n",
    "a1. withdraw (4000)\n",
    "a2. withdraw (10500)\n",
    "a1. withdraw (3500)\n",
    "print (a1)\n",
    "# John Olsson , 19371554951 , balance : 13500\n",
    "print (a2)\n",
    "# Liz Olsson , 19371564761 , balance : 9500"
   ]
  },
  {
   "cell_type": "code",
   "execution_count": 7,
   "metadata": {},
   "outputs": [],
   "source": [
    "#W8H3\n",
    "class Diff:\n",
    "    def __init__(self, f, h = 1e-4):\n",
    "        self.f = f\n",
    "        self.h = h\n",
    "    def __call__(self, x):\n",
    "        diff_f = (self.f(x + self.h) - self.f(x)) / self.h\n",
    "        return diff_f"
   ]
  },
  {
   "cell_type": "code",
   "execution_count": 8,
   "metadata": {},
   "outputs": [
    {
     "name": "stdout",
     "output_type": "stream",
     "text": [
      "[1, 0, 0, 0, -6, -1]\n",
      "[0, 1, -1, 0, -6, 5, 1]\n",
      "[1, 0, 0, -24, -5]\n"
     ]
    }
   ],
   "source": [
    "#W8H4\n",
    "class Polynomial:\n",
    "    def __init__(self, coeff):\n",
    "        self.coeff = coeff\n",
    "        \n",
    "    def __add__(self, new):\n",
    "        \n",
    "        if len(self.coeff) > len(new.coeff):\n",
    "            op = self.coeff[:]\n",
    "            for i in range(len(new.coeff)):\n",
    "                op[i] = (self.coeff[i] + new.coeff[i])\n",
    "        else:\n",
    "            op = new.coeff[:]\n",
    "            for i in range(len(self.coeff)):\n",
    "                op[i] = (self.coeff[i] + new.coeff[i])\n",
    "        self = Polynomial(op)\n",
    "        return self\n",
    "    \n",
    "    def __sub__(self, new):\n",
    "        if len(self.coeff) > len(new.coeff):\n",
    "            op = self.coeff[:]\n",
    "            for i in range(len(new.coeff)):\n",
    "                op[i] = (self.coeff[i] - new.coeff[i])\n",
    "        else:\n",
    "            op = [-x for x in new.coeff]\n",
    "            for i in range(len(self.coeff)):\n",
    "                op[i] = (self.coeff[i] - new.coeff[i])\n",
    "        self = Polynomial(op)\n",
    "        return self\n",
    "    \n",
    "    def __call__(self, x):\n",
    "        op = 0\n",
    "        for i in range(len(self.coeff)):\n",
    "            op += self.coeff[i] * x ** i\n",
    "        return op\n",
    "    \n",
    "    def __mul__(self, new):\n",
    "        op = [0] * (len(self.coeff) + len(new.coeff) - 1)\n",
    "        for i in range(len(self.coeff)):\n",
    "            for k in range(len(new.coeff)):\n",
    "                op[i+k] += self.coeff[i] * new.coeff[k]\n",
    "        self = Polynomial(op)\n",
    "        return self\n",
    "    \n",
    "    def differentiate(self):\n",
    "        n = len(self.coeff)\n",
    "        op = [0] * (n-1)\n",
    "        for i in range(1,n):\n",
    "            op[i-1] = i * self.coeff[i]\n",
    "        self.coeff = op\n",
    "        \n",
    "    def derivative(self):\n",
    "        der = Polynomial(self.coeff)\n",
    "        der.differentiate()\n",
    "        return der\n",
    "\n",
    "\n",
    "p1 = Polynomial ([1, -1])                                                                \n",
    "p2 = Polynomial ([0, 1, 0, 0, -6, -1])                                                   \n",
    "p3 = p1 + p2\n",
    "print(p3.coeff)\n",
    "# [1, 0, 0, 0, -6, -1]\n",
    "p4 = p1 * p2\n",
    "print(p4.coeff)\n",
    "# [0, 1, -1, 0, -6, 5, 1]\n",
    "p5 = p2.derivative() \n",
    "print(p5.coeff)\n",
    "# [1, 0, 0, -24, -5]"
   ]
  },
  {
   "cell_type": "code",
   "execution_count": null,
   "metadata": {},
   "outputs": [],
   "source": []
  }
 ],
 "metadata": {
  "kernelspec": {
   "display_name": "Python 3",
   "language": "python",
   "name": "python3"
  },
  "language_info": {
   "codemirror_mode": {
    "name": "ipython",
    "version": 3
   },
   "file_extension": ".py",
   "mimetype": "text/x-python",
   "name": "python",
   "nbconvert_exporter": "python",
   "pygments_lexer": "ipython3",
   "version": "3.6.5"
  }
 },
 "nbformat": 4,
 "nbformat_minor": 2
}
